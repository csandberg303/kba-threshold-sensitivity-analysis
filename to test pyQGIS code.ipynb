{
 "cells": [
  {
   "cell_type": "code",
   "execution_count": null,
   "id": "59e245c6",
   "metadata": {},
   "outputs": [],
   "source": [
    "# Import libraries\n",
    "import os\n",
    "import datetime\n",
    "import pathlib\n",
    "import requests\n",
    "import io\n",
    "import shutil\n",
    "from glob import glob\n",
    "\n",
    "# from qgis.core import *\n",
    "\n",
    "import earthpy as et\n",
    "import geopandas as gpd\n",
    "import marxanconpy as mx\n",
    "import numpy as np\n",
    "import pandas as pd\n",
    "\n",
    "import kba_thresh_sa_scripts as ks\n",
    "\n",
    "# set global cache override variable\n",
    "CACHE_OVERRIDE = False"
   ]
  },
  {
   "cell_type": "code",
   "execution_count": null,
   "id": "7b2de00f",
   "metadata": {},
   "outputs": [],
   "source": [
    "# open full hex.shp file\n",
    "fullhex_data_path = os.path.join(data_path, \"hex_shp\", 'Hex_7mi2.shp')\n",
    "fullhex_layer = gpd.read_file(fullhex_data_path)\n",
    "\n",
    "# Reproject CRS to ESPG 5070\n",
    "fullhex_layer_5070 = fullhex_layer.to_crs(epsg='5070')"
   ]
  }
 ],
 "metadata": {
  "kernelspec": {
   "display_name": "Python 3 (ipykernel)",
   "language": "python",
   "name": "python3"
  },
  "language_info": {
   "codemirror_mode": {
    "name": "ipython",
    "version": 3
   },
   "file_extension": ".py",
   "mimetype": "text/x-python",
   "name": "python",
   "nbconvert_exporter": "python",
   "pygments_lexer": "ipython3",
   "version": "3.8.10"
  },
  "varInspector": {
   "cols": {
    "lenName": 16,
    "lenType": 16,
    "lenVar": 40
   },
   "kernels_config": {
    "python": {
     "delete_cmd_postfix": "",
     "delete_cmd_prefix": "del ",
     "library": "var_list.py",
     "varRefreshCmd": "print(var_dic_list())"
    },
    "r": {
     "delete_cmd_postfix": ") ",
     "delete_cmd_prefix": "rm(",
     "library": "var_list.r",
     "varRefreshCmd": "cat(var_dic_list()) "
    }
   },
   "types_to_exclude": [
    "module",
    "function",
    "builtin_function_or_method",
    "instance",
    "_Feature"
   ],
   "window_display": false
  }
 },
 "nbformat": 4,
 "nbformat_minor": 5
}
