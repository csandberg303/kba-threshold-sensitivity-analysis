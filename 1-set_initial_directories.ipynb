{
 "cells": [
  {
   "cell_type": "code",
   "execution_count": 1,
   "id": "fa221e00",
   "metadata": {},
   "outputs": [],
   "source": [
    "# Import libraries\n",
    "import os\n",
    "import datetime\n",
    "import marxanconpy as mx\n",
    "import requests\n",
    "import io\n",
    "import shutil\n",
    "from glob import glob\n",
    "\n",
    "import earthpy as et\n",
    "import geopandas as gpd\n",
    "import numpy as np\n",
    "import pandas as pd\n",
    "\n",
    "import kba_thresh_sa_scripts as ks\n",
    "\n",
    "# set global cache override variable\n",
    "CACHE_OVERRIDE = False"
   ]
  },
  {
   "cell_type": "markdown",
   "id": "82e76877",
   "metadata": {},
   "source": [
    "#### First step is to create Initital working directory\n",
    "* 'earth-analytics/data/kba_thresh_sa'  \n",
    "* **kba_thresh_sa** is an abbreviation of KBA Threshold Sensitivity Analysis"
   ]
  },
  {
   "cell_type": "code",
   "execution_count": 2,
   "id": "6c1dd032",
   "metadata": {},
   "outputs": [
    {
     "name": "stdout",
     "output_type": "stream",
     "text": [
      "Working directory is set to earth-analytics/data/kba_thresh_sa.\n"
     ]
    }
   ],
   "source": [
    "# Define a filepath to 'earth-analytics/data/kba_thresh_sa' directory\n",
    "data_path = os.path.normpath(os.path.join(et.io.HOME, \n",
    "                                          'earth-analytics', \n",
    "                                          'data', \n",
    "                                          'kba_thresh_sa'))\n",
    "\n",
    "# Check if 'kba_thresh_sa' directory exists (create if needed), \n",
    "# then change working directory to 'earth-analytics/data/kba_thresh_sa'\n",
    "if os.path.exists(data_path):\n",
    " print('Working directory is set to earth-analytics/data/kba_thresh_sa.')\n",
    "else:\n",
    " print(\"Creating new directory; working directory set to newly created \"\n",
    "       \"'earth-analytics/data/kba_thresh_sa'.\")\n",
    " os.makedirs(data_path)\n",
    " \n",
    "os.chdir(data_path)\n"
   ]
  },
  {
   "cell_type": "markdown",
   "id": "9a10caec",
   "metadata": {},
   "source": [
    "#### A directory to store the Planning Unit shapefiles is created, if needed.\n",
    "* This is a single location to dump all the shapefiles for the ecosystems to be \n",
    "analyzed.  \n",
    "* The files must be named with the same one word 'Short_Name' given to the \n",
    "ecosystem in the 'eco_info_df' that will be provided later \n",
    "on in the workflow.  \n",
    "* This allows for a function to be called later in the workflow, which will \n",
    "create a glob list of files needed for the shapefile and copies them into a new \n",
    "directory created for each analysis run.  \n",
    "* The files in the 'shp-hex' directory will be left untouched, so that they \n",
    "remain available for future analysis runs. \n",
    "\n",
    "\n",
    "#### *IN THE FUTURE -* \n",
    "If a new user were to create new shapefiles with ArcGIS/QGIS, they could save \n",
    "their files to this directory directly, OR if files were created in this workflow \n",
    "using python, the code would save the shapefiles to this location *\n",
    "\n",
    "\n",
    "#### I think the workflow should be broken out, so that the 1st notebook ends here?\n",
    "Then, once the shapefiles have been saved to the 'shp-hex' directory, a new\n",
    "notebook would pick up from there. The idea being that this initial directory \n",
    "setup process needs to happen 1x per user, and from that point on the user could\n",
    "skip ahead to the second notebook to begin the workflow, once they've placed the\n",
    "PU files in the 'shp-hex' directory.\n",
    "\n"
   ]
  },
  {
   "cell_type": "code",
   "execution_count": 4,
   "id": "94d311c1",
   "metadata": {},
   "outputs": [
    {
     "name": "stdout",
     "output_type": "stream",
     "text": [
      "Planning Unit (PU) files should be saved to 'earth-analytics/data/kba_thresh_sa/shp-hex' directory. \n",
      "\n",
      "Be sure to name these files with the same one word 'Short_Name' that will be provided in the associated csv info file.\n",
      "\n",
      "Once shapefiles have been saved to directory, continue with workflow by using 2nd notebook '2-continue_after_saving_shapefiles_to_dir.ipynb'.\n"
     ]
    }
   ],
   "source": [
    "# Check to see if the 'shp-hex' directory exists and create if needed.\n",
    "# This is where the shapefiles should be stored. \n",
    "shp_data_path = os.path.normpath(os.path.join(data_path, 'shp-hex'))\n",
    "\n",
    "try:\n",
    "  os.chdir(shp_data_path)\n",
    "except:\n",
    "  os.makedirs(shp_data_path)\n",
    "\n",
    "\n",
    "# Prompt for PU files to be placed in the 'shp-hex' directory, using\n",
    "# a one word 'Short_Name' for the filename to identify the ecosystem\n",
    "print(\"Planning Unit (PU) files should be saved to 'earth-analytics/\"\n",
    "      \"data/kba_thresh_sa/shp-hex' directory. \\n\\nBe sure to name these\"\n",
    "      \" files with the same one word 'Short_Name' that will be provided\"\n",
    "      \" in the associated csv info file.\\n\\n\"\n",
    "      \"Once shapefiles have been saved to directory, continue with \"\n",
    "      \"workflow by using 2nd notebook '2-continue_after_saving_\"\n",
    "      \"shapefiles_to_dir.ipynb'.\")"
   ]
  }
 ],
 "metadata": {
  "kernelspec": {
   "display_name": "Python 3 (ipykernel)",
   "language": "python",
   "name": "python3"
  },
  "language_info": {
   "codemirror_mode": {
    "name": "ipython",
    "version": 3
   },
   "file_extension": ".py",
   "mimetype": "text/x-python",
   "name": "python",
   "nbconvert_exporter": "python",
   "pygments_lexer": "ipython3",
   "version": "3.8.10"
  },
  "varInspector": {
   "cols": {
    "lenName": 16,
    "lenType": 16,
    "lenVar": 40
   },
   "kernels_config": {
    "python": {
     "delete_cmd_postfix": "",
     "delete_cmd_prefix": "del ",
     "library": "var_list.py",
     "varRefreshCmd": "print(var_dic_list())"
    },
    "r": {
     "delete_cmd_postfix": ") ",
     "delete_cmd_prefix": "rm(",
     "library": "var_list.r",
     "varRefreshCmd": "cat(var_dic_list()) "
    }
   },
   "position": {
    "height": "446.85px",
    "left": "1678px",
    "right": "20px",
    "top": "120px",
    "width": "350px"
   },
   "types_to_exclude": [
    "module",
    "function",
    "builtin_function_or_method",
    "instance",
    "_Feature"
   ],
   "window_display": true
  }
 },
 "nbformat": 4,
 "nbformat_minor": 5
}
