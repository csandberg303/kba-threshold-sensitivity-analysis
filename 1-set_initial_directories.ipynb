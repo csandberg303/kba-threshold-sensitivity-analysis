{
 "cells": [
  {
   "cell_type": "code",
   "execution_count": 5,
   "id": "fa221e00",
   "metadata": {},
   "outputs": [],
   "source": [
    "# Import libraries\n",
    "import os\n",
    "import datetime\n",
    "import marxanconpy as mx\n",
    "import requests\n",
    "import io\n",
    "import shutil\n",
    "from glob import glob\n",
    "\n",
    "# from qgis.core import *\n",
    "\n",
    "import earthpy as et\n",
    "import geopandas as gpd\n",
    "import numpy as np\n",
    "import pandas as pd\n",
    "\n",
    "import kba_thresh_sa_scripts as ks\n",
    "\n",
    "# set global cache override variable\n",
    "CACHE_OVERRIDE = False"
   ]
  },
  {
   "cell_type": "markdown",
   "id": "82e76877",
   "metadata": {},
   "source": [
    "#### The first step in the workflow is to create an initial working directory\n",
    "* 'earth-analytics/data/kba_thresh_sa'  \n",
    "* **kba_thresh_sa** is an abbreviation of KBA Threshold Sensitivity Analysis"
   ]
  },
  {
   "cell_type": "code",
   "execution_count": 2,
   "id": "6c1dd032",
   "metadata": {},
   "outputs": [
    {
     "name": "stdout",
     "output_type": "stream",
     "text": [
      "Working directory is set to earth-analytics/data/kba_thresh_sa.\n"
     ]
    }
   ],
   "source": [
    "# Define a filepath to 'earth-analytics/data/kba_thresh_sa' directory\n",
    "data_path = os.path.normpath(os.path.join(et.io.HOME, \n",
    "                                          'earth-analytics', \n",
    "                                          'data', \n",
    "                                          'kba_thresh_sa'))\n",
    "\n",
    "# Check if 'kba_thresh_sa' directory exists (create if needed), \n",
    "# then change working directory to 'earth-analytics/data/kba_thresh_sa'\n",
    "if os.path.exists(data_path):\n",
    " print('Working directory is set to earth-analytics/data/kba_thresh_sa.')\n",
    "else:\n",
    " print(\"Creating new directory; working directory set to newly created \"\n",
    "       \"'earth-analytics/data/kba_thresh_sa'.\")\n",
    " os.makedirs(data_path)\n",
    " \n",
    "os.chdir(data_path)\n"
   ]
  },
  {
   "cell_type": "markdown",
   "id": "9a10caec",
   "metadata": {},
   "source": [
    "#### A directory to store the Planning Unit shapefiles is created, if needed.\n",
    "* This is a single location to dump all the shapefiles for the individual \n",
    "ecosystems to be analyzed.  \n",
    "* The files must be named with the same one word 'Short_Name' given to the \n",
    "ecosystem in the 'eco_info_df' that will be provided later \n",
    "on in the workflow (ex. 'dune.shp' and 'dune.tif). This allows the workflow to \n",
    "correctly recognize the files that will be needed, when a function is called \n",
    "to create a glob list of the .shp and .tif files and copy them into a new \n",
    "directories created for each analysis run.  \n",
    "* The original files in the 'shp_hex' directory will be left untouched, so that \n",
    "they remain available for future analysis runs. \n",
    "\n",
    "\n",
    "#### *IN THE FUTURE -* \n",
    "If a new user were to create new shapefiles with ArcGIS/QGIS, they could save \n",
    "their files to this directory directly, OR if files were created in this workflow \n",
    "using python, the code would save the shapefiles to this location *\n",
    "\n",
    "\n",
    "#### End first notebook after this next cell, continue workflow in 2nd notebook\n",
    "Once the 'hex_shp' and 'r_tif' directories are created then they will need to be \n",
    "populated with files. This can happen manually, with the user saving the files \n",
    "they've created in ArcGIS or QGIS to the new directory. Ideally a solution will \n",
    "be found to create these files within the workflow, but working with the large \n",
    "files outside of ArcGIS/QGIS is proving to be a challenge.\n",
    "\n",
    "Once the shapefiles and rasters have been saved, the worflow continues in the \n",
    "second notebook of the workflow, '2-continue_after_saving_shapefile_to_dir'.\n",
    "\n",
    "The initial process of setting up the directories with this first notebook \n",
    "only needs to happen 1x per user.\n",
    "\n",
    "From that point, a user can begin the workflow with the second notebook.\n"
   ]
  },
  {
   "cell_type": "code",
   "execution_count": 10,
   "id": "94d311c1",
   "metadata": {},
   "outputs": [
    {
     "name": "stdout",
     "output_type": "stream",
     "text": [
      "Planning Unit (PU) hex shapefiles should be saved to 'earth-analytics/data/kba_thresh_sa/hex_shp' directory, and the raster files should be saved to 'earth-analytics/data/kba_thresh_sa/r_tif' directory. \n",
      "\n",
      "Be sure to name these files with the same one word 'Short_Name' that will be provided in the associated csv info file.\n",
      "\n",
      "Once shapefiles and rasters have been saved to directory, continue with workflow by using 2nd notebook '2-continue_after_saving_shapefiles_to_dir.ipynb'.\n"
     ]
    }
   ],
   "source": [
    "# Check to see if the 'hex_shp' directory exists and create if needed.\n",
    "# This is where the hex shapefiles should be stored. \n",
    "shp_data_path = os.path.normpath(os.path.join(data_path, 'hex_shp'))\n",
    "\n",
    "try:\n",
    "  os.chdir(shp_data_path)\n",
    "except:\n",
    "  os.makedirs(shp_data_path)\n",
    "\n",
    "# Check to see if the 'r_tif' directory exists and create if needed.\n",
    "# This is where the raster files should be stored. \n",
    "tif_data_path = os.path.normpath(os.path.join(data_path, 'r_tif'))\n",
    "\n",
    "try:\n",
    "  os.chdir(tif_data_path)\n",
    "except:\n",
    "  os.makedirs(tif_data_path)\n",
    "\n",
    "\n",
    "# Prompt for PU files to be placed in the 'shp-hex' directory, using\n",
    "# a one word 'Short_Name' for the filename to identify the ecosystem\n",
    "print(\"Planning Unit (PU) hex shapefiles should be saved to 'earth-\"\n",
    "      \"analytics/data/kba_thresh_sa/hex_shp' directory, and the raster \"\n",
    "      \"files should be saved to 'earth-analytics/data/kba_thresh_sa/\"\n",
    "      \"r_tif' directory. \\n\\nBe sure to name these files with the same \"\n",
    "      \"one word 'Short_Name' that will be provided in the associated csv \"\n",
    "      \"info file.\\n\\n\"\n",
    "      \"Once shapefiles and rasters have been saved to directory, \"\n",
    "      \"continue with workflow by using 2nd notebook '2-continue_after_\"\n",
    "      \"saving_shapefiles_to_dir.ipynb'.\")"
   ]
  },
  {
   "cell_type": "markdown",
   "id": "120f9f26",
   "metadata": {},
   "source": [
    "\n"
   ]
  },
  {
   "cell_type": "markdown",
   "id": "39e26ddc",
   "metadata": {},
   "source": []
  }
 ],
 "metadata": {
  "kernelspec": {
   "display_name": "Python 3 (ipykernel)",
   "language": "python",
   "name": "python3"
  },
  "language_info": {
   "codemirror_mode": {
    "name": "ipython",
    "version": 3
   },
   "file_extension": ".py",
   "mimetype": "text/x-python",
   "name": "python",
   "nbconvert_exporter": "python",
   "pygments_lexer": "ipython3",
   "version": "3.8.10"
  },
  "varInspector": {
   "cols": {
    "lenName": 16,
    "lenType": 16,
    "lenVar": 40
   },
   "kernels_config": {
    "python": {
     "delete_cmd_postfix": "",
     "delete_cmd_prefix": "del ",
     "library": "var_list.py",
     "varRefreshCmd": "print(var_dic_list())"
    },
    "r": {
     "delete_cmd_postfix": ") ",
     "delete_cmd_prefix": "rm(",
     "library": "var_list.r",
     "varRefreshCmd": "cat(var_dic_list()) "
    }
   },
   "position": {
    "height": "446.85px",
    "left": "1678px",
    "right": "20px",
    "top": "120px",
    "width": "350px"
   },
   "types_to_exclude": [
    "module",
    "function",
    "builtin_function_or_method",
    "instance",
    "_Feature"
   ],
   "window_display": true
  }
 },
 "nbformat": 4,
 "nbformat_minor": 5
}
