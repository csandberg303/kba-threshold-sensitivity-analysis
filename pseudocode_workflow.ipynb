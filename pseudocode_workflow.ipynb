{
 "cells": [
  {
   "cell_type": "code",
   "execution_count": null,
   "id": "ebf51b70",
   "metadata": {},
   "outputs": [],
   "source": [
    "# GET LIST OF ECOSYSTEMS TO ANALYZE \n",
    "#     (FROM PROVIDED 'LF_EVT_2020' FILE)\n",
    "    \n",
    "# SET UP FOLDER STRUCTURE FOR EACH ECOSYSTEM (CREATE INPUT/OUTPUT FOLDERS ETC)\n",
    "#     (I'VE GOT SOME INITIAL CODE FOR THIS IN A JUPYTER NOTEBOOK ON OUR NATURESERVE REPOSITORY)\n",
    "     \n",
    "# GET TWO INITIAL SHAPEFILES FOR EACH ECOSYSTEM THAT WILL BE NEEDED FOR MARXAN ANALYSIS, SAVE TO APPROPRIATE FOLDER \n",
    "#     (USE LANA'S EXISTING FILES FROM ARCGIS WITH PAT'S 2020 DATA, OR INVESTIGATE LANDFIRE API FOR 2016 DATA)\n",
    "     \n",
    "# SET UP LOGIC OF CURRENT KBA THRESHOLDS\n",
    "#     (FOR IUCN A2:THREATENED ECOSYSTEM TYPE\n",
    "#          IF ECOSYSTEM'S 'LF_EVT_2020[RLE_FINAL]' VALUE = CR, CR (EN-CR), EN or EN (EN-CR)\n",
    "#              THRESHOLD = >= 5% OF ECOSYSTEM TOTAL EXTENT (USE 30M, US-hectare, or US_km2 COLUMN OF 'LF_EVT_2020')\n",
    "#          IF ECOSYSTEM'S 'LF_EVT_2020[RLE_FINAL]' VALUE = VU\n",
    "#              THRESHOLD = >= 10% OF ECOSYSTEM TOTAL EXTENT\n",
    "\n",
    "# CREATE LIST FOR THRESHOLD TEST (1.0, 0.75, 0.50, 0.25)\n",
    "     \n",
    "# *INITIAL OUTPUT* - create table of 4 threshold values for each ecosystem    \n",
    "#      (from Pat's Study Plan - \"This will result in a tabular summary of 4 threshold values per ecosystem type, \n",
    "#       depending on its RLE status\")\n",
    "     \n",
    "# ASSIGN EACH ECOSYSTEM TO A SPATIAL CHARACTERISTIC TYPE (PATCHY, LINEAR or MATRIX)\n",
    "#      (THIS IS BASED UPON OUR VISUAL ASSESSMENT, WHICH WILL BE APPROVED BY PAT)\n",
    "     \n",
    "# ITERATION LOOP:\n",
    "#      FOR EACH ECOSYSTEM IN LIST\n",
    "#          RUN MARXANCONPY ANALYSIS (***see note below) FOR THE APPROPRIATE KBA THRESHOLD, BASED ON 'RLE_FINAL'\n",
    "#              COMPLETE SEPARATE RUNS FOR EACH TEST LEVEL (1.0, 0.75, 0.50, 0.25)\n",
    "#              SAVE RESULTS FROM EACH RUN TO DATAFRAME\n",
    "#      SAVE DATAFRAME TO TABLE (INCL. THE ASSIGNED SPATIAL CHARACTERISTIC INFO)\n",
    "\n",
    "# SAVE FINAL DATAFRAME AS CSV\n",
    "     \n",
    "     \n",
    "# *** USING MARXANCONPY FOR FURTHER ANALYSIS\n",
    "     \n",
    "#      INFO FROM MARXANCONPY DOCUMENTATION - https://remi-daigle.github.io/marxanconpy/\n",
    "#          The first step is to import the package and create a MarCon dictionary.\n",
    "#              import marxanconpy\n",
    "#              import os\n",
    "#              project = marxanconpy.marcon.new_project()\n",
    "     \n",
    "#      INFO FROM https://marxanconnect.ca/tutorial.html#4_marxanconpy_Python_Module\n",
    "#          Using the spatial dependencies approach using landscape-based data\n",
    "#          https://marxanconnect.ca/targets.html\n",
    "     \n",
    "\n",
    "\n",
    "     \n"
   ]
  }
 ],
 "metadata": {
  "kernelspec": {
   "display_name": "Python 3 (ipykernel)",
   "language": "python",
   "name": "python3"
  },
  "language_info": {
   "codemirror_mode": {
    "name": "ipython",
    "version": 3
   },
   "file_extension": ".py",
   "mimetype": "text/x-python",
   "name": "python",
   "nbconvert_exporter": "python",
   "pygments_lexer": "ipython3",
   "version": "3.8.10"
  },
  "varInspector": {
   "cols": {
    "lenName": 16,
    "lenType": 16,
    "lenVar": 40
   },
   "kernels_config": {
    "python": {
     "delete_cmd_postfix": "",
     "delete_cmd_prefix": "del ",
     "library": "var_list.py",
     "varRefreshCmd": "print(var_dic_list())"
    },
    "r": {
     "delete_cmd_postfix": ") ",
     "delete_cmd_prefix": "rm(",
     "library": "var_list.r",
     "varRefreshCmd": "cat(var_dic_list()) "
    }
   },
   "types_to_exclude": [
    "module",
    "function",
    "builtin_function_or_method",
    "instance",
    "_Feature"
   ],
   "window_display": false
  }
 },
 "nbformat": 4,
 "nbformat_minor": 5
}
